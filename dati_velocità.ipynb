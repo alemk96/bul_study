{
 "cells": [
  {
   "cell_type": "code",
   "execution_count": 1,
   "id": "89a63a6c-60e6-44ed-8512-28294b639b4d",
   "metadata": {},
   "outputs": [],
   "source": [
    "import requests\n",
    "from bs4 import BeautifulSoup"
   ]
  },
  {
   "cell_type": "code",
   "execution_count": 38,
   "id": "4b86ca13-9af9-4489-ac45-f0bdfd0e6aa1",
   "metadata": {},
   "outputs": [],
   "source": [
    "list_page_event = requests.get(\"https://misurainternet.it/valori_statistici/?csrfmiddlewaretoken=PmowMH9VasBwM58EEVdl9W1ARGSIvgCyYTL0uODEECL2GxQn952STNPYUtN6rNqQ&operatore=&regione=&anno=2022&periodo=anno\")\n",
    "site = BeautifulSoup(list_page_event.text, \"html.parser\")"
   ]
  },
  {
   "cell_type": "code",
   "execution_count": 43,
   "id": "3c700f6d-1e3c-4bc4-8c07-325ab52548b5",
   "metadata": {},
   "outputs": [],
   "source": [
    "table = site.find(\"table\", class_=\"results\")"
   ]
  },
  {
   "cell_type": "code",
   "execution_count": 44,
   "id": "c9d03340-e5c6-4632-8200-201283bb33b8",
   "metadata": {},
   "outputs": [],
   "source": [
    "header = [item.text for item in table.find(\"thead\").find_all(\"th\")]\n",
    "     "
   ]
  },
  {
   "cell_type": "code",
   "execution_count": 45,
   "id": "b6396611-2556-4d0d-a39b-b90bd7bad8b3",
   "metadata": {},
   "outputs": [
    {
     "data": {
      "text/plain": [
       "['Operatore',\n",
       " 'Profilo',\n",
       " 'Velocità (down/up)',\n",
       " 'Territorio',\n",
       " 'Periodo',\n",
       " 'Tipo',\n",
       " 'Media',\n",
       " 'Dev. Std.',\n",
       " 'Min',\n",
       " 'Max',\n",
       " 'TP%',\n",
       " 'Misure']"
      ]
     },
     "execution_count": 45,
     "metadata": {},
     "output_type": "execute_result"
    }
   ],
   "source": [
    "header"
   ]
  },
  {
   "cell_type": "code",
   "execution_count": 52,
   "id": "72b0d62b-e540-4a4a-8b58-adb4e6381b41",
   "metadata": {},
   "outputs": [],
   "source": [
    "operatore = [item.text for item in table.find_all(\"td\", class_=\"text-xs-center\")]\n",
    "\n"
   ]
  },
  {
   "cell_type": "code",
   "execution_count": 66,
   "id": "40186674-d6d6-420d-a868-70ee01a56261",
   "metadata": {},
   "outputs": [],
   "source": [
    "rows = [row.text.replace(\" \",\"\").replace(\"\\n\",\"\") for row in table.find_all(\"tr\")]"
   ]
  },
  {
   "cell_type": "code",
   "execution_count": 67,
   "id": "2fdbd803-c9f9-41be-add5-bd900cbb7f9b",
   "metadata": {},
   "outputs": [
    {
     "data": {
      "text/plain": [
       "['OperatoreProfiloVelocità(down/up)TerritorioPeriodoTipoMediaDev.Std.MinMaxTP%Misure',\n",
       " 'AcanthoBigBand7,0Mbps512.0kbpsNazionaleGen2022Dic2022Download6,8Mbps2,96,8Mbps16907',\n",
       " 'AcanthoBigBand20,0Mbps1,0MbpsNazionaleGen2022Dic2022Download11,2Mbps1012,310,0Mbps17556',\n",
       " 'ArubaNone1.000,0Mbps300,0MbpsNazionaleGen2022Dic2022Download788,0Mbps165521,6591,7Mbps25490',\n",
       " 'BrennercomAllesKlar8,0Mbps384.0kbpsNazionaleGen2022Dic2022Download8,2Mbps263,28,2Mbps11782',\n",
       " 'BrennercomAllesKlarLight2,0Mbps256.0kbpsNazionaleGen2022Dic2022Download954.6kbps968,70.0kbps11843',\n",
       " 'BritishTelecomBTADSL7Mega,VipPremium,VipDuet,VipAssolo7,0Mbps832.0kbpsNazionaleGen2022Dic2022Download5,8Mbps1295,63,7Mbps34815',\n",
       " 'BritishTelecomVipClub7Mega,VipSmart7Mega,VipDuet,VipAssolo7,0Mbps1,0MbpsNazionaleGen2022Dic2022Download4,9Mbps2927,00.0kbps105847',\n",
       " 'BritishTelecomVipDuet,VipAssolo20,0Mbps1,0MbpsNazionaleGen2022Dic2022Download14,4Mbps2348,911,5Mbps77186',\n",
       " 'EnelEnergiaFIBRADIMELITA\\rDiamondFibra1.000,0Mbps300,0MbpsNazionaleGen2022Dic2022Download727,6Mbps25322,4709,3Mbps16552',\n",
       " 'EoloNone1.000,0Mbps300,0MbpsNazionaleGen2022Dic2022Download564,3Mbps297843,7256,8Mbps1232',\n",
       " 'EoloFormula7,0Mbps512.0kbpsNazionaleGen2022Dic2022Download5,8Mbps12296,60.0kbps43958',\n",
       " 'EoloFormula20,0Mbps1,0MbpsNazionaleGen2022Dic2022Download6,0Mbps2258,20.0kbps116241',\n",
       " 'FastwebJetUBB100,0Mbps20,0MbpsNazionaleGen2022Dic2022Download69,9Mbps17991,769,3Mbps1470',\n",
       " 'FastwebJetUBB100,0Mbps20,0MbpsNazionaleGen2022Dic2022Download80,5Mbps8755,972,7Mbps17014',\n",
       " 'FastwebJoy200,0Mbps20,0MbpsNazionaleGen2022Dic2022Download131,0Mbps9594,2122,6Mbps17044',\n",
       " 'FastwebSuperjet,Joy,Jet8,2Mbps1,0MbpsNazionaleGen2022Dic2022Download7,3Mbps506,07,3Mbps27491',\n",
       " 'FastwebSuperjet,Joy,Jet12,0Mbps1,0MbpsNazionaleGen2022Dic2022Download11,7Mbps2126,410,5Mbps123763',\n",
       " 'FastwebSuperjet,Joy,Jet16,0Mbps1,0MbpsNazionaleGen2022Dic2022Download16,0Mbps2335,614,5Mbps50520',\n",
       " 'FastwebSuperjet,Joy,Jet20,0Mbps1,0MbpsNazionaleGen2022Dic2022Download14,3Mbps4434,77,3Mbps24246',\n",
       " 'Iliadiliadbox1.000,0Mbps700,0MbpsNazionaleGen2022Dic2022Download899,2Mbps104661,5855,1Mbps7514']"
      ]
     },
     "execution_count": 67,
     "metadata": {},
     "output_type": "execute_result"
    }
   ],
   "source": [
    "rows"
   ]
  },
  {
   "cell_type": "code",
   "execution_count": null,
   "id": "47f86f7d-e673-444d-903c-994bb1f14c04",
   "metadata": {},
   "outputs": [],
   "source": []
  }
 ],
 "metadata": {
  "kernelspec": {
   "display_name": "Python 3 (ipykernel)",
   "language": "python",
   "name": "python3"
  },
  "language_info": {
   "codemirror_mode": {
    "name": "ipython",
    "version": 3
   },
   "file_extension": ".py",
   "mimetype": "text/x-python",
   "name": "python",
   "nbconvert_exporter": "python",
   "pygments_lexer": "ipython3",
   "version": "3.11.6"
  }
 },
 "nbformat": 4,
 "nbformat_minor": 5
}
