{
 "cells": [
  {
   "cell_type": "code",
   "execution_count": 1,
   "id": "89a63a6c-60e6-44ed-8512-28294b639b4d",
   "metadata": {},
   "outputs": [],
   "source": [
    "import requests\n",
    "from bs4 import BeautifulSoup"
   ]
  },
  {
   "cell_type": "code",
   "execution_count": 2,
   "id": "4b86ca13-9af9-4489-ac45-f0bdfd0e6aa1",
   "metadata": {},
   "outputs": [],
   "source": [
    "list_page_event = requests.get(\"https://misurainternet.it/valori_statistici/?csrfmiddlewaretoken=PmowMH9VasBwM58EEVdl9W1ARGSIvgCyYTL0uODEECL2GxQn952STNPYUtN6rNqQ&operatore=&regione=&anno=2022&periodo=anno\")\n",
    "blallo = BeautifulSoup(list_page_event.text, \"html.parser\")"
   ]
  },
  {
   "cell_type": "code",
   "execution_count": 32,
   "id": "3c700f6d-1e3c-4bc4-8c07-325ab52548b5",
   "metadata": {},
   "outputs": [],
   "source": [
    "table = blallo.find(\"table\", class_=\"results\").find(\"thead\")"
   ]
  },
  {
   "cell_type": "code",
   "execution_count": 30,
   "id": "c9d03340-e5c6-4632-8200-201283bb33b8",
   "metadata": {},
   "outputs": [],
   "source": [
    "header = [item.text for item in table.find_all(\"th\")]\n",
    "     "
   ]
  },
  {
   "cell_type": "code",
   "execution_count": 33,
   "id": "b6396611-2556-4d0d-a39b-b90bd7bad8b3",
   "metadata": {},
   "outputs": [
    {
     "data": {
      "text/plain": [
       "['Operatore',\n",
       " 'Profilo',\n",
       " 'Velocità (down/up)',\n",
       " 'Territorio',\n",
       " 'Periodo',\n",
       " 'Tipo',\n",
       " 'Media',\n",
       " 'Dev. Std.',\n",
       " 'Min',\n",
       " 'Max',\n",
       " 'TP%',\n",
       " 'Misure']"
      ]
     },
     "execution_count": 33,
     "metadata": {},
     "output_type": "execute_result"
    }
   ],
   "source": [
    "header"
   ]
  },
  {
   "cell_type": "code",
   "execution_count": null,
   "id": "72b0d62b-e540-4a4a-8b58-adb4e6381b41",
   "metadata": {},
   "outputs": [],
   "source": []
  }
 ],
 "metadata": {
  "kernelspec": {
   "display_name": "Python 3 (ipykernel)",
   "language": "python",
   "name": "python3"
  },
  "language_info": {
   "codemirror_mode": {
    "name": "ipython",
    "version": 3
   },
   "file_extension": ".py",
   "mimetype": "text/x-python",
   "name": "python",
   "nbconvert_exporter": "python",
   "pygments_lexer": "ipython3",
   "version": "3.11.6"
  }
 },
 "nbformat": 4,
 "nbformat_minor": 5
}
