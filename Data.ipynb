{
 "cells": [
  {
   "cell_type": "markdown",
   "id": "ab8d92c7-b438-4a5f-8e99-b6edafe4ee9c",
   "metadata": {},
   "source": [
    "# Studio diffusione banda larga"
   ]
  },
  {
   "cell_type": "code",
   "execution_count": 5,
   "id": "a346260e-f764-4f8d-88e7-bbd36c4f6067",
   "metadata": {},
   "outputs": [],
   "source": [
    "import json\n",
    "import pandas as pd\n",
    "import requests \n",
    "import certifi\n"
   ]
  },
  {
   "cell_type": "code",
   "execution_count": 6,
   "id": "9b1b9536-ee2d-4196-be27-32bc424875b4",
   "metadata": {},
   "outputs": [],
   "source": [
    "url = 'https://bandaultralarga.italia.it/wp-json/bul/v1/opendata?format=json&level=city&id=12036'"
   ]
  },
  {
   "cell_type": "code",
   "execution_count": 1,
   "id": "0a95bba4-62bc-40e9-87b8-c92df93c491a",
   "metadata": {},
   "outputs": [],
   "source": [
    "#response = requests.get(url, verify=\"DigiCertGlobalRootCA.crt\")\n",
    "#data = response.text"
   ]
  },
  {
   "cell_type": "code",
   "execution_count": null,
   "id": "04564fd4-9f2a-45aa-9b15-e86a95c20bb7",
   "metadata": {},
   "outputs": [],
   "source": [
    "print(data)"
   ]
  },
  {
   "cell_type": "code",
   "execution_count": 12,
   "id": "5ac8c167-df36-4e41-8a47-086da7591eba",
   "metadata": {},
   "outputs": [],
   "source": [
    "#with open(\".\\opendata.json\") as file:\n",
    "#    data = json.load(file)"
   ]
  },
  {
   "cell_type": "code",
   "execution_count": null,
   "id": "5175562e-2343-421c-89fb-fe091916b96b",
   "metadata": {},
   "outputs": [],
   "source": [
    "data_normalized = pd.json_normalize(data[\"intervento\"][\"concessione\"])\n",
    "data_normalized.columns = [\"fiber\", \"wireless\"]\n"
   ]
  },
  {
   "cell_type": "code",
   "execution_count": null,
   "id": "04a4e021-757f-4a43-b471-72739be0da09",
   "metadata": {},
   "outputs": [
    {
     "data": {
      "text/html": [
       "<div>\n",
       "<style scoped>\n",
       "    .dataframe tbody tr th:only-of-type {\n",
       "        vertical-align: middle;\n",
       "    }\n",
       "\n",
       "    .dataframe tbody tr th {\n",
       "        vertical-align: top;\n",
       "    }\n",
       "\n",
       "    .dataframe thead th {\n",
       "        text-align: right;\n",
       "    }\n",
       "</style>\n",
       "<table border=\"1\" class=\"dataframe\">\n",
       "  <thead>\n",
       "    <tr style=\"text-align: right;\">\n",
       "      <th></th>\n",
       "      <th>fiber</th>\n",
       "      <th>wireless</th>\n",
       "    </tr>\n",
       "  </thead>\n",
       "  <tbody>\n",
       "    <tr>\n",
       "      <th>0</th>\n",
       "      <td>7438</td>\n",
       "      <td>7665</td>\n",
       "    </tr>\n",
       "  </tbody>\n",
       "</table>\n",
       "</div>"
      ],
      "text/plain": [
       "   fiber  wireless\n",
       "0   7438      7665"
      ]
     },
     "execution_count": 8,
     "metadata": {},
     "output_type": "execute_result"
    }
   ],
   "source": [
    "data_normalized"
   ]
  },
  {
   "cell_type": "code",
   "execution_count": null,
   "id": "912f4d4b-e430-448c-bb77-be60521b7eec",
   "metadata": {},
   "outputs": [],
   "source": []
  }
 ],
 "metadata": {
  "kernelspec": {
   "display_name": "Python 3 (ipykernel)",
   "language": "python",
   "name": "python3"
  },
  "language_info": {
   "codemirror_mode": {
    "name": "ipython",
    "version": 3
   },
   "file_extension": ".py",
   "mimetype": "text/x-python",
   "name": "python",
   "nbconvert_exporter": "python",
   "pygments_lexer": "ipython3",
   "version": "3.11.6"
  }
 },
 "nbformat": 4,
 "nbformat_minor": 5
}
