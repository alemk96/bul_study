{
 "cells": [
  {
   "cell_type": "markdown",
   "id": "ab8d92c7-b438-4a5f-8e99-b6edafe4ee9c",
   "metadata": {},
   "source": [
    "# Studio diffusione banda larga"
   ]
  },
  {
   "cell_type": "code",
   "execution_count": 1,
   "id": "a346260e-f764-4f8d-88e7-bbd36c4f6067",
   "metadata": {},
   "outputs": [],
   "source": [
    "import requests\n",
    "import json\n",
    "import pandas as pd"
   ]
  },
  {
   "cell_type": "code",
   "execution_count": 2,
   "id": "f113bbe8-be42-460c-b93c-3e7ec645f70a",
   "metadata": {},
   "outputs": [],
   "source": [
    "with open(\".\\opendata.json\") as file:\n",
    "    data = json.load(file)"
   ]
  },
  {
   "cell_type": "code",
   "execution_count": 3,
   "id": "5175562e-2343-421c-89fb-fe091916b96b",
   "metadata": {},
   "outputs": [],
   "source": [
    "data_normalized = pd.json_normalize(data[\"intervento\"][\"diretto\"],meta=[\"colonna\"])"
   ]
  },
  {
   "cell_type": "code",
   "execution_count": 4,
   "id": "04a4e021-757f-4a43-b471-72739be0da09",
   "metadata": {},
   "outputs": [
    {
     "data": {
      "text/html": [
       "<div>\n",
       "<style scoped>\n",
       "    .dataframe tbody tr th:only-of-type {\n",
       "        vertical-align: middle;\n",
       "    }\n",
       "\n",
       "    .dataframe tbody tr th {\n",
       "        vertical-align: top;\n",
       "    }\n",
       "\n",
       "    .dataframe thead th {\n",
       "        text-align: right;\n",
       "    }\n",
       "</style>\n",
       "<table border=\"1\" class=\"dataframe\">\n",
       "  <thead>\n",
       "    <tr style=\"text-align: right;\">\n",
       "      <th></th>\n",
       "      <th>fiber</th>\n",
       "      <th>wireless</th>\n",
       "    </tr>\n",
       "  </thead>\n",
       "  <tbody>\n",
       "    <tr>\n",
       "      <th>0</th>\n",
       "      <td>661</td>\n",
       "      <td>0</td>\n",
       "    </tr>\n",
       "  </tbody>\n",
       "</table>\n",
       "</div>"
      ],
      "text/plain": [
       "   fiber  wireless\n",
       "0    661         0"
      ]
     },
     "execution_count": 4,
     "metadata": {},
     "output_type": "execute_result"
    }
   ],
   "source": [
    "data_normalized"
   ]
  },
  {
   "cell_type": "code",
   "execution_count": null,
   "id": "912f4d4b-e430-448c-bb77-be60521b7eec",
   "metadata": {},
   "outputs": [],
   "source": []
  }
 ],
 "metadata": {
  "kernelspec": {
   "display_name": "Python 3 (ipykernel)",
   "language": "python",
   "name": "python3"
  },
  "language_info": {
   "codemirror_mode": {
    "name": "ipython",
    "version": 3
   },
   "file_extension": ".py",
   "mimetype": "text/x-python",
   "name": "python",
   "nbconvert_exporter": "python",
   "pygments_lexer": "ipython3",
   "version": "3.11.6"
  }
 },
 "nbformat": 4,
 "nbformat_minor": 5
}
